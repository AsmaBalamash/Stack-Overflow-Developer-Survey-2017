{
 "cells": [
  {
   "cell_type": "markdown",
   "metadata": {},
   "source": [
    "<h2 id='part1'>A Look at the Data</h2>\n",
    "\n",
    "In order to get a better understanding of the data, let's take a look at some of the characteristics of the dataset.\n",
    "\n",
    "First, let's read in the data and necessary libraries."
   ]
  },
  {
   "cell_type": "code",
   "execution_count": 1,
   "metadata": {},
   "outputs": [],
   "source": [
    "import numpy as np\n",
    "import pandas as pd\n",
    "import matplotlib.pyplot as plt\n",
    "import seaborn as sns\n",
    "import helper as h\n",
    "%matplotlib inline"
   ]
  },
  {
   "cell_type": "code",
   "execution_count": 2,
   "metadata": {},
   "outputs": [
    {
     "data": {
      "text/html": [
       "<div>\n",
       "<style scoped>\n",
       "    .dataframe tbody tr th:only-of-type {\n",
       "        vertical-align: middle;\n",
       "    }\n",
       "\n",
       "    .dataframe tbody tr th {\n",
       "        vertical-align: top;\n",
       "    }\n",
       "\n",
       "    .dataframe thead th {\n",
       "        text-align: right;\n",
       "    }\n",
       "</style>\n",
       "<table border=\"1\" class=\"dataframe\">\n",
       "  <thead>\n",
       "    <tr style=\"text-align: right;\">\n",
       "      <th></th>\n",
       "      <th>Respondent</th>\n",
       "      <th>Professional</th>\n",
       "      <th>ProgramHobby</th>\n",
       "      <th>Country</th>\n",
       "      <th>University</th>\n",
       "      <th>EmploymentStatus</th>\n",
       "      <th>FormalEducation</th>\n",
       "      <th>MajorUndergrad</th>\n",
       "      <th>HomeRemote</th>\n",
       "      <th>CompanySize</th>\n",
       "      <th>...</th>\n",
       "      <th>StackOverflowMakeMoney</th>\n",
       "      <th>Gender</th>\n",
       "      <th>HighestEducationParents</th>\n",
       "      <th>Race</th>\n",
       "      <th>SurveyLong</th>\n",
       "      <th>QuestionsInteresting</th>\n",
       "      <th>QuestionsConfusing</th>\n",
       "      <th>InterestedAnswers</th>\n",
       "      <th>Salary</th>\n",
       "      <th>ExpectedSalary</th>\n",
       "    </tr>\n",
       "  </thead>\n",
       "  <tbody>\n",
       "    <tr>\n",
       "      <th>0</th>\n",
       "      <td>1</td>\n",
       "      <td>Student</td>\n",
       "      <td>Yes, both</td>\n",
       "      <td>United States</td>\n",
       "      <td>No</td>\n",
       "      <td>Not employed, and not looking for work</td>\n",
       "      <td>Secondary school</td>\n",
       "      <td>NaN</td>\n",
       "      <td>NaN</td>\n",
       "      <td>NaN</td>\n",
       "      <td>...</td>\n",
       "      <td>Strongly disagree</td>\n",
       "      <td>Male</td>\n",
       "      <td>High school</td>\n",
       "      <td>White or of European descent</td>\n",
       "      <td>Strongly disagree</td>\n",
       "      <td>Strongly agree</td>\n",
       "      <td>Disagree</td>\n",
       "      <td>Strongly agree</td>\n",
       "      <td>NaN</td>\n",
       "      <td>NaN</td>\n",
       "    </tr>\n",
       "    <tr>\n",
       "      <th>1</th>\n",
       "      <td>2</td>\n",
       "      <td>Student</td>\n",
       "      <td>Yes, both</td>\n",
       "      <td>United Kingdom</td>\n",
       "      <td>Yes, full-time</td>\n",
       "      <td>Employed part-time</td>\n",
       "      <td>Some college/university study without earning ...</td>\n",
       "      <td>Computer science or software engineering</td>\n",
       "      <td>More than half, but not all, the time</td>\n",
       "      <td>20 to 99 employees</td>\n",
       "      <td>...</td>\n",
       "      <td>Strongly disagree</td>\n",
       "      <td>Male</td>\n",
       "      <td>A master's degree</td>\n",
       "      <td>White or of European descent</td>\n",
       "      <td>Somewhat agree</td>\n",
       "      <td>Somewhat agree</td>\n",
       "      <td>Disagree</td>\n",
       "      <td>Strongly agree</td>\n",
       "      <td>NaN</td>\n",
       "      <td>37500.0</td>\n",
       "    </tr>\n",
       "    <tr>\n",
       "      <th>2</th>\n",
       "      <td>3</td>\n",
       "      <td>Professional developer</td>\n",
       "      <td>Yes, both</td>\n",
       "      <td>United Kingdom</td>\n",
       "      <td>No</td>\n",
       "      <td>Employed full-time</td>\n",
       "      <td>Bachelor's degree</td>\n",
       "      <td>Computer science or software engineering</td>\n",
       "      <td>Less than half the time, but at least one day ...</td>\n",
       "      <td>10,000 or more employees</td>\n",
       "      <td>...</td>\n",
       "      <td>Disagree</td>\n",
       "      <td>Male</td>\n",
       "      <td>A professional degree</td>\n",
       "      <td>White or of European descent</td>\n",
       "      <td>Somewhat agree</td>\n",
       "      <td>Agree</td>\n",
       "      <td>Disagree</td>\n",
       "      <td>Agree</td>\n",
       "      <td>113750.0</td>\n",
       "      <td>NaN</td>\n",
       "    </tr>\n",
       "    <tr>\n",
       "      <th>3</th>\n",
       "      <td>4</td>\n",
       "      <td>Professional non-developer who sometimes write...</td>\n",
       "      <td>Yes, both</td>\n",
       "      <td>United States</td>\n",
       "      <td>No</td>\n",
       "      <td>Employed full-time</td>\n",
       "      <td>Doctoral degree</td>\n",
       "      <td>A non-computer-focused engineering discipline</td>\n",
       "      <td>Less than half the time, but at least one day ...</td>\n",
       "      <td>10,000 or more employees</td>\n",
       "      <td>...</td>\n",
       "      <td>Disagree</td>\n",
       "      <td>Male</td>\n",
       "      <td>A doctoral degree</td>\n",
       "      <td>White or of European descent</td>\n",
       "      <td>Agree</td>\n",
       "      <td>Agree</td>\n",
       "      <td>Somewhat agree</td>\n",
       "      <td>Strongly agree</td>\n",
       "      <td>NaN</td>\n",
       "      <td>NaN</td>\n",
       "    </tr>\n",
       "    <tr>\n",
       "      <th>4</th>\n",
       "      <td>5</td>\n",
       "      <td>Professional developer</td>\n",
       "      <td>Yes, I program as a hobby</td>\n",
       "      <td>Switzerland</td>\n",
       "      <td>No</td>\n",
       "      <td>Employed full-time</td>\n",
       "      <td>Master's degree</td>\n",
       "      <td>Computer science or software engineering</td>\n",
       "      <td>Never</td>\n",
       "      <td>10 to 19 employees</td>\n",
       "      <td>...</td>\n",
       "      <td>NaN</td>\n",
       "      <td>NaN</td>\n",
       "      <td>NaN</td>\n",
       "      <td>NaN</td>\n",
       "      <td>NaN</td>\n",
       "      <td>NaN</td>\n",
       "      <td>NaN</td>\n",
       "      <td>NaN</td>\n",
       "      <td>NaN</td>\n",
       "      <td>NaN</td>\n",
       "    </tr>\n",
       "  </tbody>\n",
       "</table>\n",
       "<p>5 rows × 154 columns</p>\n",
       "</div>"
      ],
      "text/plain": [
       "   Respondent                                       Professional  \\\n",
       "0           1                                            Student   \n",
       "1           2                                            Student   \n",
       "2           3                             Professional developer   \n",
       "3           4  Professional non-developer who sometimes write...   \n",
       "4           5                             Professional developer   \n",
       "\n",
       "                ProgramHobby         Country      University  \\\n",
       "0                  Yes, both   United States              No   \n",
       "1                  Yes, both  United Kingdom  Yes, full-time   \n",
       "2                  Yes, both  United Kingdom              No   \n",
       "3                  Yes, both   United States              No   \n",
       "4  Yes, I program as a hobby     Switzerland              No   \n",
       "\n",
       "                         EmploymentStatus  \\\n",
       "0  Not employed, and not looking for work   \n",
       "1                      Employed part-time   \n",
       "2                      Employed full-time   \n",
       "3                      Employed full-time   \n",
       "4                      Employed full-time   \n",
       "\n",
       "                                     FormalEducation  \\\n",
       "0                                   Secondary school   \n",
       "1  Some college/university study without earning ...   \n",
       "2                                  Bachelor's degree   \n",
       "3                                    Doctoral degree   \n",
       "4                                    Master's degree   \n",
       "\n",
       "                                  MajorUndergrad  \\\n",
       "0                                            NaN   \n",
       "1       Computer science or software engineering   \n",
       "2       Computer science or software engineering   \n",
       "3  A non-computer-focused engineering discipline   \n",
       "4       Computer science or software engineering   \n",
       "\n",
       "                                          HomeRemote  \\\n",
       "0                                                NaN   \n",
       "1              More than half, but not all, the time   \n",
       "2  Less than half the time, but at least one day ...   \n",
       "3  Less than half the time, but at least one day ...   \n",
       "4                                              Never   \n",
       "\n",
       "                CompanySize       ...       StackOverflowMakeMoney Gender  \\\n",
       "0                       NaN       ...            Strongly disagree   Male   \n",
       "1        20 to 99 employees       ...            Strongly disagree   Male   \n",
       "2  10,000 or more employees       ...                     Disagree   Male   \n",
       "3  10,000 or more employees       ...                     Disagree   Male   \n",
       "4        10 to 19 employees       ...                          NaN    NaN   \n",
       "\n",
       "  HighestEducationParents                          Race         SurveyLong  \\\n",
       "0             High school  White or of European descent  Strongly disagree   \n",
       "1       A master's degree  White or of European descent     Somewhat agree   \n",
       "2   A professional degree  White or of European descent     Somewhat agree   \n",
       "3       A doctoral degree  White or of European descent              Agree   \n",
       "4                     NaN                           NaN                NaN   \n",
       "\n",
       "  QuestionsInteresting QuestionsConfusing InterestedAnswers    Salary  \\\n",
       "0       Strongly agree           Disagree    Strongly agree       NaN   \n",
       "1       Somewhat agree           Disagree    Strongly agree       NaN   \n",
       "2                Agree           Disagree             Agree  113750.0   \n",
       "3                Agree     Somewhat agree    Strongly agree       NaN   \n",
       "4                  NaN                NaN               NaN       NaN   \n",
       "\n",
       "   ExpectedSalary  \n",
       "0             NaN  \n",
       "1         37500.0  \n",
       "2             NaN  \n",
       "3             NaN  \n",
       "4             NaN  \n",
       "\n",
       "[5 rows x 154 columns]"
      ]
     },
     "execution_count": 2,
     "metadata": {},
     "output_type": "execute_result"
    }
   ],
   "source": [
    "df = pd.read_csv('./survey_results_public.csv')\n",
    "schema = pd.read_csv('./survey_results_schema.csv')\n",
    "df.head()"
   ]
  },
  {
   "cell_type": "markdown",
   "metadata": {},
   "source": [
    "1. Provide the number of rows and columns in this dataset."
   ]
  },
  {
   "cell_type": "code",
   "execution_count": 3,
   "metadata": {},
   "outputs": [
    {
     "data": {
      "text/plain": [
       "(51392, 154)"
      ]
     },
     "execution_count": 3,
     "metadata": {},
     "output_type": "execute_result"
    }
   ],
   "source": [
    "df.shape"
   ]
  },
  {
   "cell_type": "code",
   "execution_count": 4,
   "metadata": {},
   "outputs": [
    {
     "data": {
      "text/plain": [
       "(154, 2)"
      ]
     },
     "execution_count": 4,
     "metadata": {},
     "output_type": "execute_result"
    }
   ],
   "source": [
    "schema.shape"
   ]
  },
  {
   "cell_type": "code",
   "execution_count": 5,
   "metadata": {},
   "outputs": [
    {
     "data": {
      "text/html": [
       "<div>\n",
       "<style scoped>\n",
       "    .dataframe tbody tr th:only-of-type {\n",
       "        vertical-align: middle;\n",
       "    }\n",
       "\n",
       "    .dataframe tbody tr th {\n",
       "        vertical-align: top;\n",
       "    }\n",
       "\n",
       "    .dataframe thead th {\n",
       "        text-align: right;\n",
       "    }\n",
       "</style>\n",
       "<table border=\"1\" class=\"dataframe\">\n",
       "  <thead>\n",
       "    <tr style=\"text-align: right;\">\n",
       "      <th></th>\n",
       "      <th>Column</th>\n",
       "      <th>Question</th>\n",
       "    </tr>\n",
       "  </thead>\n",
       "  <tbody>\n",
       "    <tr>\n",
       "      <th>0</th>\n",
       "      <td>Respondent</td>\n",
       "      <td>Respondent ID number</td>\n",
       "    </tr>\n",
       "    <tr>\n",
       "      <th>1</th>\n",
       "      <td>Professional</td>\n",
       "      <td>Which of the following best describes you?</td>\n",
       "    </tr>\n",
       "    <tr>\n",
       "      <th>2</th>\n",
       "      <td>ProgramHobby</td>\n",
       "      <td>Do you program as a hobby or contribute to ope...</td>\n",
       "    </tr>\n",
       "    <tr>\n",
       "      <th>3</th>\n",
       "      <td>Country</td>\n",
       "      <td>In which country do you currently live?</td>\n",
       "    </tr>\n",
       "    <tr>\n",
       "      <th>4</th>\n",
       "      <td>University</td>\n",
       "      <td>Are you currently enrolled in a formal, degree...</td>\n",
       "    </tr>\n",
       "    <tr>\n",
       "      <th>5</th>\n",
       "      <td>EmploymentStatus</td>\n",
       "      <td>Which of the following best describes your cur...</td>\n",
       "    </tr>\n",
       "    <tr>\n",
       "      <th>6</th>\n",
       "      <td>FormalEducation</td>\n",
       "      <td>Which of the following best describes the high...</td>\n",
       "    </tr>\n",
       "    <tr>\n",
       "      <th>7</th>\n",
       "      <td>MajorUndergrad</td>\n",
       "      <td>Which of the following best describes your mai...</td>\n",
       "    </tr>\n",
       "    <tr>\n",
       "      <th>8</th>\n",
       "      <td>HomeRemote</td>\n",
       "      <td>How often do you work from home or remotely?</td>\n",
       "    </tr>\n",
       "    <tr>\n",
       "      <th>9</th>\n",
       "      <td>CompanySize</td>\n",
       "      <td>In terms of the number of employees, how large...</td>\n",
       "    </tr>\n",
       "  </tbody>\n",
       "</table>\n",
       "</div>"
      ],
      "text/plain": [
       "             Column                                           Question\n",
       "0        Respondent                               Respondent ID number\n",
       "1      Professional         Which of the following best describes you?\n",
       "2      ProgramHobby  Do you program as a hobby or contribute to ope...\n",
       "3           Country            In which country do you currently live?\n",
       "4        University  Are you currently enrolled in a formal, degree...\n",
       "5  EmploymentStatus  Which of the following best describes your cur...\n",
       "6   FormalEducation  Which of the following best describes the high...\n",
       "7    MajorUndergrad  Which of the following best describes your mai...\n",
       "8        HomeRemote       How often do you work from home or remotely?\n",
       "9       CompanySize  In terms of the number of employees, how large..."
      ]
     },
     "execution_count": 5,
     "metadata": {},
     "output_type": "execute_result"
    }
   ],
   "source": [
    "schema.head(n=10)"
   ]
  },
  {
   "cell_type": "markdown",
   "metadata": {},
   "source": [
    "2. Which columns had no missing values? Provide a set of column names that have no missing values."
   ]
  },
  {
   "cell_type": "code",
   "execution_count": 6,
   "metadata": {},
   "outputs": [
    {
     "data": {
      "text/plain": [
       "{'Country',\n",
       " 'EmploymentStatus',\n",
       " 'FormalEducation',\n",
       " 'Professional',\n",
       " 'ProgramHobby',\n",
       " 'Respondent',\n",
       " 'University'}"
      ]
     },
     "execution_count": 6,
     "metadata": {},
     "output_type": "execute_result"
    }
   ],
   "source": [
    "no_nulls = set(df.columns[df.isnull().mean()==0])#Provide a set of columns with 0 missing values.\n",
    "no_nulls"
   ]
  },
  {
   "cell_type": "markdown",
   "metadata": {},
   "source": [
    "3. Which columns have the most missing values? Provide a set of column name that have more than 75% if their values missing."
   ]
  },
  {
   "cell_type": "code",
   "execution_count": 7,
   "metadata": {},
   "outputs": [
    {
     "data": {
      "text/plain": [
       "{'ExCoder10Years',\n",
       " 'ExCoderActive',\n",
       " 'ExCoderBalance',\n",
       " 'ExCoderBelonged',\n",
       " 'ExCoderNotForMe',\n",
       " 'ExCoderReturn',\n",
       " 'ExCoderSkills',\n",
       " 'ExCoderWillNotCode',\n",
       " 'ExpectedSalary',\n",
       " 'MobileDeveloperType',\n",
       " 'NonDeveloperType',\n",
       " 'TimeAfterBootcamp',\n",
       " 'WebDeveloperType',\n",
       " 'YearsCodedJobPast'}"
      ]
     },
     "execution_count": 7,
     "metadata": {},
     "output_type": "execute_result"
    }
   ],
   "source": [
    "most_missing_cols = set(df.columns[df.isnull().mean() > 0.75])#Provide a set of columns with more than 75% of the values missing\n",
    "most_missing_cols"
   ]
  },
  {
   "cell_type": "markdown",
   "metadata": {},
   "source": [
    "4. Provide a pandas series of the different Professional status values in the dataset. Store this pandas series in status_vals. If you are correct, you should see a bar chart of the proportion of individuals in each status."
   ]
  },
  {
   "cell_type": "code",
   "execution_count": 8,
   "metadata": {},
   "outputs": [
    {
     "data": {
      "image/png": "[encoded data removed]",
      "text/plain": [
       "<Figure size 432x288 with 1 Axes>"
      ]
     },
     "metadata": {
      "needs_background": "light"
     },
     "output_type": "display_data"
    }
   ],
   "source": [
    "status_vals = df.Professional.value_counts()#Provide a pandas series of the counts for each Professional status\n",
    "\n",
    "# The below should be a bar chart of the proportion of individuals in each professional category if your status_vals\n",
    "# is set up correctly.\n",
    "\n",
    "(status_vals/df.shape[0]).plot(kind=\"bar\");\n",
    "plt.title(\"What kind of developer are you?\");"
   ]
  },
  {
   "cell_type": "markdown",
   "metadata": {},
   "source": [
    "5. Provide a pandas series of the different FormalEducation status values in the dataset. Store this pandas series in ed_vals. If you are correct, you should see a bar chart of the proportion of individuals in each status."
   ]
  },
  {
   "cell_type": "code",
   "execution_count": 9,
   "metadata": {},
   "outputs": [
    {
     "data": {
      "image/png": "[encoded data removed]",
      "text/plain": [
       "<Figure size 432x288 with 1 Axes>"
      ]
     },
     "metadata": {
      "needs_background": "light"
     },
     "output_type": "display_data"
    }
   ],
   "source": [
    "ed_vals = df.FormalEducation.value_counts()#Provide a pandas series of the counts for each FormalEducation status\n",
    "\n",
    "# The below should be a bar chart of the proportion of individuals in your ed_vals\n",
    "# if it is set up correctly.\n",
    "\n",
    "(ed_vals/df.shape[0]).plot(kind=\"bar\");\n",
    "plt.title(\"Formal Education\");"
   ]
  },
  {
   "cell_type": "markdown",
   "metadata": {},
   "source": [
    "6. Provide a pandas series of the different Country values in the dataset. Store this pandas series in count_vals. If you are correct, you should see a bar chart of the proportion of individuals in each country."
   ]
  },
  {
   "cell_type": "code",
   "execution_count": 10,
   "metadata": {},
   "outputs": [
    {
     "data": {
      "image/png": "[encoded data removed]",
      "text/plain": [
       "<Figure size 432x288 with 1 Axes>"
      ]
     },
     "metadata": {
      "needs_background": "light"
     },
     "output_type": "display_data"
    }
   ],
   "source": [
    "count_vals = df.Country.value_counts()#Provide a pandas series of the counts for each Country\n",
    "\n",
    "# The below should be a bar chart of the proportion of the top 10 countries for the\n",
    "# individuals in your count_vals if it is set up correctly.\n",
    "\n",
    "(count_vals[:10]/df.shape[0]).plot(kind=\"bar\");\n",
    "plt.title(\"Country\");"
   ]
  },
  {
   "cell_type": "markdown",
   "metadata": {},
   "source": [
    "Feel free to explore the dataset further to gain additional familiarity with the columns and rows in the dataset."
   ]
  },
  {
   "cell_type": "code",
   "execution_count": 11,
   "metadata": {},
   "outputs": [
    {
     "data": {
      "text/html": [
       "<div>\n",
       "<style scoped>\n",
       "    .dataframe tbody tr th:only-of-type {\n",
       "        vertical-align: middle;\n",
       "    }\n",
       "\n",
       "    .dataframe tbody tr th {\n",
       "        vertical-align: top;\n",
       "    }\n",
       "\n",
       "    .dataframe thead th {\n",
       "        text-align: right;\n",
       "    }\n",
       "</style>\n",
       "<table border=\"1\" class=\"dataframe\">\n",
       "  <thead>\n",
       "    <tr style=\"text-align: right;\">\n",
       "      <th></th>\n",
       "      <th></th>\n",
       "      <th>Salary</th>\n",
       "    </tr>\n",
       "    <tr>\n",
       "      <th>Gender</th>\n",
       "      <th>FormalEducation</th>\n",
       "      <th></th>\n",
       "    </tr>\n",
       "  </thead>\n",
       "  <tbody>\n",
       "    <tr>\n",
       "      <th rowspan=\"9\" valign=\"top\">Female</th>\n",
       "      <th>Bachelor's degree</th>\n",
       "      <td>60040.908291</td>\n",
       "    </tr>\n",
       "    <tr>\n",
       "      <th>Doctoral degree</th>\n",
       "      <td>90623.768006</td>\n",
       "    </tr>\n",
       "    <tr>\n",
       "      <th>I never completed any formal education</th>\n",
       "      <td>NaN</td>\n",
       "    </tr>\n",
       "    <tr>\n",
       "      <th>I prefer not to answer</th>\n",
       "      <td>13255.786387</td>\n",
       "    </tr>\n",
       "    <tr>\n",
       "      <th>Master's degree</th>\n",
       "      <td>56210.867588</td>\n",
       "    </tr>\n",
       "    <tr>\n",
       "      <th>Primary/elementary school</th>\n",
       "      <td>32258.064516</td>\n",
       "    </tr>\n",
       "    <tr>\n",
       "      <th>Professional degree</th>\n",
       "      <td>45458.307618</td>\n",
       "    </tr>\n",
       "    <tr>\n",
       "      <th>Secondary school</th>\n",
       "      <td>41110.162320</td>\n",
       "    </tr>\n",
       "    <tr>\n",
       "      <th>Some college/university study without earning a bachelor's degree</th>\n",
       "      <td>48116.699754</td>\n",
       "    </tr>\n",
       "    <tr>\n",
       "      <th rowspan=\"9\" valign=\"top\">Male</th>\n",
       "      <th>Bachelor's degree</th>\n",
       "      <td>57413.518034</td>\n",
       "    </tr>\n",
       "    <tr>\n",
       "      <th>Doctoral degree</th>\n",
       "      <td>76872.602904</td>\n",
       "    </tr>\n",
       "    <tr>\n",
       "      <th>I never completed any formal education</th>\n",
       "      <td>43090.588914</td>\n",
       "    </tr>\n",
       "    <tr>\n",
       "      <th>I prefer not to answer</th>\n",
       "      <td>37629.362623</td>\n",
       "    </tr>\n",
       "    <tr>\n",
       "      <th>Master's degree</th>\n",
       "      <td>59156.503938</td>\n",
       "    </tr>\n",
       "    <tr>\n",
       "      <th>Primary/elementary school</th>\n",
       "      <td>63777.121965</td>\n",
       "    </tr>\n",
       "    <tr>\n",
       "      <th>Professional degree</th>\n",
       "      <td>40901.083005</td>\n",
       "    </tr>\n",
       "    <tr>\n",
       "      <th>Secondary school</th>\n",
       "      <td>41353.206724</td>\n",
       "    </tr>\n",
       "    <tr>\n",
       "      <th>Some college/university study without earning a bachelor's degree</th>\n",
       "      <td>57262.911063</td>\n",
       "    </tr>\n",
       "  </tbody>\n",
       "</table>\n",
       "</div>"
      ],
      "text/plain": [
       "                                                                 Salary\n",
       "Gender FormalEducation                                                 \n",
       "Female Bachelor's degree                                   60040.908291\n",
       "       Doctoral degree                                     90623.768006\n",
       "       I never completed any formal education                       NaN\n",
       "       I prefer not to answer                              13255.786387\n",
       "       Master's degree                                     56210.867588\n",
       "       Primary/elementary school                           32258.064516\n",
       "       Professional degree                                 45458.307618\n",
       "       Secondary school                                    41110.162320\n",
       "       Some college/university study without earning a...  48116.699754\n",
       "Male   Bachelor's degree                                   57413.518034\n",
       "       Doctoral degree                                     76872.602904\n",
       "       I never completed any formal education              43090.588914\n",
       "       I prefer not to answer                              37629.362623\n",
       "       Master's degree                                     59156.503938\n",
       "       Primary/elementary school                           63777.121965\n",
       "       Professional degree                                 40901.083005\n",
       "       Secondary school                                    41353.206724\n",
       "       Some college/university study without earning a...  57262.911063"
      ]
     },
     "execution_count": 11,
     "metadata": {},
     "output_type": "execute_result"
    }
   ],
   "source": [
    "pd.DataFrame(df.query(\"Professional == 'Professional developer' and (Gender == 'Male' or Gender == 'Female')\").groupby(['Gender', 'FormalEducation']).mean()['Salary'])"
   ]
  },
  {
   "cell_type": "code",
   "execution_count": 12,
   "metadata": {},
   "outputs": [
    {
     "data": {
      "text/plain": [
       "EducationImportant\n",
       "Important               55949.466853\n",
       "Not at all important    58676.103645\n",
       "Not very important      55498.730833\n",
       "Somewhat important      55751.705967\n",
       "Very important          59541.444482\n",
       "Name: Salary, dtype: float64"
      ]
     },
     "execution_count": 12,
     "metadata": {},
     "output_type": "execute_result"
    }
   ],
   "source": [
    "df.groupby('EducationImportant').mean()['Salary']"
   ]
  },
  {
   "cell_type": "code",
   "execution_count": 13,
   "metadata": {},
   "outputs": [
    {
     "data": {
      "text/plain": [
       "FormalEducation\n",
       "I never completed any formal education                               6.892308\n",
       "I prefer not to answer                                               7.095890\n",
       "Primary/elementary school                                            7.162088\n",
       "Master's degree                                                      7.261575\n",
       "Bachelor's degree                                                    7.283903\n",
       "Secondary school                                                     7.332757\n",
       "Some college/university study without earning a bachelor's degree    7.384269\n",
       "Professional degree                                                  7.429675\n",
       "Doctoral degree                                                      7.548848\n",
       "Name: CareerSatisfaction, dtype: float64"
      ]
     },
     "execution_count": 13,
     "metadata": {},
     "output_type": "execute_result"
    }
   ],
   "source": [
    "df.groupby('FormalEducation').mean()['CareerSatisfaction'].sort_values()"
   ]
  },
  {
   "cell_type": "code",
   "execution_count": 14,
   "metadata": {},
   "outputs": [
    {
     "data": {
      "text/plain": [
       "201"
      ]
     },
     "execution_count": 14,
     "metadata": {},
     "output_type": "execute_result"
    }
   ],
   "source": [
    "df['Country'].nunique()"
   ]
  },
  {
   "cell_type": "code",
   "execution_count": 15,
   "metadata": {},
   "outputs": [
    {
     "data": {
      "text/plain": [
       "United States     11455\n",
       "India              5197\n",
       "United Kingdom     4395\n",
       "Germany            4143\n",
       "Canada             2233\n",
       "Name: Country, dtype: int64"
      ]
     },
     "execution_count": 15,
     "metadata": {},
     "output_type": "execute_result"
    }
   ],
   "source": [
    "df.Country.value_counts().head()"
   ]
  },
  {
   "cell_type": "code",
   "execution_count": 16,
   "metadata": {},
   "outputs": [
    {
     "data": {
      "text/plain": [
       "Web developer                                                                                                                                                                                                                                        10683\n",
       "Web developer; Desktop applications developer                                                                                                                                                                                                         1849\n",
       "Mobile developer                                                                                                                                                                                                                                      1556\n",
       "Web developer; Mobile developer                                                                                                                                                                                                                       1503\n",
       "Desktop applications developer                                                                                                                                                                                                                        1433\n",
       "Other                                                                                                                                                                                                                                                 1174\n",
       "Web developer; Mobile developer; Desktop applications developer                                                                                                                                                                                        754\n",
       "Web developer; DevOps specialist                                                                                                                                                                                                                       713\n",
       "Embedded applications/devices developer                                                                                                                                                                                                                664\n",
       "Web developer; Database administrator                                                                                                                                                                                                                  505\n",
       "Developer with a statistics or mathematics background                                                                                                                                                                                                  485\n",
       "Web developer; Developer with a statistics or mathematics background                                                                                                                                                                                   453\n",
       "Web developer; Desktop applications developer; Database administrator                                                                                                                                                                                  381\n",
       "Web developer; Database administrator; Systems administrator                                                                                                                                                                                           295\n",
       "Web developer; Systems administrator                                                                                                                                                                                                                   279\n",
       "Web developer; Other                                                                                                                                                                                                                                   276\n",
       "Data scientist                                                                                                                                                                                                                                         249\n",
       "Mobile developer; Desktop applications developer                                                                                                                                                                                                       244\n",
       "Embedded applications/devices developer; Desktop applications developer                                                                                                                                                                                228\n",
       "Web developer; Systems administrator; DevOps specialist                                                                                                                                                                                                226\n",
       "Web developer; Database administrator; Systems administrator; DevOps specialist                                                                                                                                                                        205\n",
       "Web developer; Graphic designer                                                                                                                                                                                                                        204\n",
       "Web developer; Data scientist                                                                                                                                                                                                                          198\n",
       "DevOps specialist                                                                                                                                                                                                                                      192\n",
       "Web developer; Developer with a statistics or mathematics background; Desktop applications developer                                                                                                                                                   183\n",
       "Web developer; Desktop applications developer; DevOps specialist                                                                                                                                                                                       178\n",
       "Web developer; Desktop applications developer; Database administrator; Systems administrator                                                                                                                                                           161\n",
       "Developer with a statistics or mathematics background; Desktop applications developer                                                                                                                                                                  147\n",
       "Web developer; Embedded applications/devices developer; Desktop applications developer                                                                                                                                                                 141\n",
       "Web developer; Mobile developer; Desktop applications developer; Database administrator                                                                                                                                                                138\n",
       "                                                                                                                                                                                                                                                     ...  \n",
       "Web developer; Graphics programming; Developer with a statistics or mathematics background; Desktop applications developer; DevOps specialist                                                                                                            1\n",
       "Web developer; Mobile developer; Embedded applications/devices developer; Data scientist; Graphic designer; Desktop applications developer; Database administrator                                                                                       1\n",
       "Embedded applications/devices developer; Machine learning specialist; Developer with a statistics or mathematics background; Other                                                                                                                       1\n",
       "Mobile developer; Embedded applications/devices developer; Database administrator; Systems administrator; DevOps specialist                                                                                                                              1\n",
       "Web developer; Machine learning specialist; Data scientist; Graphic designer; Database administrator; Systems administrator                                                                                                                              1\n",
       "Mobile developer; Database administrator; Systems administrator; DevOps specialist                                                                                                                                                                       1\n",
       "Web developer; Mobile developer; Embedded applications/devices developer; Machine learning specialist; Data scientist; Quality assurance engineer                                                                                                        1\n",
       "Web developer; Mobile developer; Embedded applications/devices developer; Machine learning specialist; Developer with a statistics or mathematics background; Graphic designer; Desktop applications developer; Database administrator                   1\n",
       "Embedded applications/devices developer; Machine learning specialist; Data scientist; Desktop applications developer                                                                                                                                     1\n",
       "Mobile developer; Embedded applications/devices developer; Systems administrator; DevOps specialist                                                                                                                                                      1\n",
       "Embedded applications/devices developer; Graphics programming; Desktop applications developer; Database administrator; Systems administrator; Quality assurance engineer                                                                                 1\n",
       "Web developer; Embedded applications/devices developer; Graphics programming; Graphic designer; Desktop applications developer; Database administrator; DevOps specialist                                                                                1\n",
       "Web developer; Graphics programming; Developer with a statistics or mathematics background; Graphic designer; Database administrator                                                                                                                     1\n",
       "Web developer; Machine learning specialist; Developer with a statistics or mathematics background; Data scientist; Desktop applications developer; Database administrator; Systems administrator                                                         1\n",
       "Web developer; Mobile developer; Graphics programming; Developer with a statistics or mathematics background; Graphic designer; Desktop applications developer; Database administrator; Quality assurance engineer                                       1\n",
       "Web developer; Mobile developer; Embedded applications/devices developer; Machine learning specialist; Developer with a statistics or mathematics background; Data scientist; Desktop applications developer; Database administrator                     1\n",
       "Web developer; Machine learning specialist; Developer with a statistics or mathematics background; Data scientist; Database administrator; Systems administrator; Other                                                                                  1\n",
       "Data scientist; Systems administrator; DevOps specialist                                                                                                                                                                                                 1\n",
       "Machine learning specialist; Developer with a statistics or mathematics background; Desktop applications developer; Quality assurance engineer                                                                                                           1\n",
       "Mobile developer; Developer with a statistics or mathematics background; Systems administrator                                                                                                                                                           1\n",
       "Web developer; Embedded applications/devices developer; Machine learning specialist; Developer with a statistics or mathematics background; Desktop applications developer; Database administrator; Systems administrator; DevOps specialist             1\n",
       "Embedded applications/devices developer; Graphics programming; Machine learning specialist; Desktop applications developer; Systems administrator; Quality assurance engineer                                                                            1\n",
       "Mobile developer; Desktop applications developer; Systems administrator; Quality assurance engineer; Other                                                                                                                                               1\n",
       "Machine learning specialist; Quality assurance engineer                                                                                                                                                                                                  1\n",
       "Web developer; Mobile developer; Machine learning specialist; Graphic designer; Desktop applications developer                                                                                                                                           1\n",
       "Embedded applications/devices developer; Graphics programming; Data scientist; Desktop applications developer; Systems administrator                                                                                                                     1\n",
       "Web developer; Mobile developer; Embedded applications/devices developer; Graphics programming; Desktop applications developer; Systems administrator; DevOps specialist                                                                                 1\n",
       "Embedded applications/devices developer; Machine learning specialist; Developer with a statistics or mathematics background; Systems administrator                                                                                                       1\n",
       "Web developer; Mobile developer; Embedded applications/devices developer; Graphics programming; Developer with a statistics or mathematics background; Graphic designer; Desktop applications developer; Systems administrator; DevOps specialist        1\n",
       "Web developer; Mobile developer; Developer with a statistics or mathematics background; Data scientist; Database administrator; Systems administrator; Other                                                                                             1\n",
       "Name: DeveloperType, Length: 1823, dtype: int64"
      ]
     },
     "execution_count": 16,
     "metadata": {},
     "output_type": "execute_result"
    }
   ],
   "source": [
    "df.DeveloperType.value_counts()"
   ]
  },
  {
   "cell_type": "markdown",
   "metadata": {},
   "source": [
    "## Questions I have Asked "
   ]
  },
  {
   "cell_type": "markdown",
   "metadata": {},
   "source": [
    "### Question1: Does the educational level have an impact in determining the importance of education in the career success or not?"
   ]
  },
  {
   "cell_type": "code",
   "execution_count": 17,
   "metadata": {},
   "outputs": [
    {
     "data": {
      "text/plain": [
       "\"Which of the following best describes the highest level of formal education that you've completed?\""
      ]
     },
     "execution_count": 17,
     "metadata": {},
     "output_type": "execute_result"
    }
   ],
   "source": [
    "h.get_description('FormalEducation',schema)"
   ]
  },
  {
   "cell_type": "code",
   "execution_count": 18,
   "metadata": {},
   "outputs": [],
   "source": [
    "possible_vals = ['Important','Not at all important',  'Not very important','Somewhat important','Very important']\n",
    "\n",
    "def clean_and_plot(df, title='Importance of Education', plot=True):\n",
    "    '''\n",
    "    INPUT \n",
    "        df - a dataframe holding the EducationImportant column\n",
    "        title - string the title of your plot\n",
    "        axis - axis object\n",
    "        plot - bool providing whether or not you want a plot back\n",
    "        \n",
    "    OUTPUT\n",
    "        study_df - a dataframe with the count of how many individuals\n",
    "        Displays a plot of pretty things related to the EducationImportant column.\n",
    "    '''\n",
    "    study = df['EducationImportant'].value_counts().reset_index()\n",
    "    study.rename(columns={'index': 'Importance', 'EducationImportant': 'count'}, inplace=True)\n",
    "    study_df = h.total_count(study, 'Importance', 'count', possible_vals)\n",
    "\n",
    "    study_df.set_index('Importance', inplace=True)\n",
    "    if plot:\n",
    "        (study_df/study_df.sum()).plot(kind='bar', legend=None);\n",
    "        plt.title(title);\n",
    "        plt.show()\n",
    "    props_study_df = study_df/study_df.sum()\n",
    "    return props_study_df"
   ]
  },
  {
   "cell_type": "code",
   "execution_count": 19,
   "metadata": {},
   "outputs": [],
   "source": [
    "def higher_ed(formal_ed_str):\n",
    "    '''\n",
    "    INPUT\n",
    "        formal_ed_str - a string of one of the values from the Formal Education column\n",
    "    \n",
    "    OUTPUT\n",
    "        return 1 if the string is  in (\"Master's degree\", \"Doctoral\", \"Professional degree\")\n",
    "        return 0 otherwise\n",
    "    \n",
    "    '''\n",
    "    if formal_ed_str in (\"Master's degree\", \"Doctoral\", \"Professional degree\"):\n",
    "        return 1\n",
    "    else:\n",
    "        return 0"
   ]
  },
  {
   "cell_type": "code",
   "execution_count": 20,
   "metadata": {},
   "outputs": [],
   "source": [
    "df['HigherEd'] = df[\"FormalEducation\"].apply(higher_ed)"
   ]
  },
  {
   "cell_type": "code",
   "execution_count": 21,
   "metadata": {},
   "outputs": [],
   "source": [
    "ed_1 = df[df['HigherEd'] == 1] # Subset df to only those with HigherEd of 1\n",
    "ed_0 = df[df['HigherEd'] == 0] # Subset df to only those with HigherEd of 0"
   ]
  },
  {
   "cell_type": "code",
   "execution_count": 22,
   "metadata": {},
   "outputs": [
    {
     "data": {
      "text/html": [
       "<style  type=\"text/css\" >\n",
       "    #T_1fe5fb2e_ca85_11e9_8c16_38d5473ab090row0_col2 {\n",
       "            width:  10em;\n",
       "             height:  80%;\n",
       "            background:  linear-gradient(90deg, transparent 0%, transparent 48.6%, #5fba7d 48.6%, #5fba7d 100.0%, transparent 100.0%);\n",
       "        }    #T_1fe5fb2e_ca85_11e9_8c16_38d5473ab090row1_col2 {\n",
       "            width:  10em;\n",
       "             height:  80%;\n",
       "            background:  linear-gradient(90deg, transparent 0%, transparent 48.6%, #5fba7d 48.6%, #5fba7d 52.9%, transparent 52.9%);\n",
       "        }    #T_1fe5fb2e_ca85_11e9_8c16_38d5473ab090row2_col2 {\n",
       "            width:  10em;\n",
       "             height:  80%;\n",
       "            background:  linear-gradient(90deg, transparent 0%, transparent 48.6%, #5fba7d 48.6%, #5fba7d 85.7%, transparent 85.7%);\n",
       "        }    #T_1fe5fb2e_ca85_11e9_8c16_38d5473ab090row3_col2 {\n",
       "            width:  10em;\n",
       "             height:  80%;\n",
       "            background:  linear-gradient(90deg, transparent 0%, transparent 4.5%, #d65f5f 4.5%, #d65f5f 48.6%, transparent 48.6%);\n",
       "        }    #T_1fe5fb2e_ca85_11e9_8c16_38d5473ab090row4_col2 {\n",
       "            width:  10em;\n",
       "             height:  80%;\n",
       "            background:  linear-gradient(90deg, transparent 0%, transparent -0.0%, #d65f5f -0.0%, #d65f5f 48.6%, transparent 48.6%);\n",
       "        }</style>  \n",
       "<table id=\"T_1fe5fb2e_ca85_11e9_8c16_38d5473ab090\" > \n",
       "<thead>    <tr> \n",
       "        <th class=\"blank level0\" ></th> \n",
       "        <th class=\"col_heading level0 col0\" >ed_1_perc</th> \n",
       "        <th class=\"col_heading level0 col1\" >ed_0_perc</th> \n",
       "        <th class=\"col_heading level0 col2\" >Diff_HigherEd_Vals</th> \n",
       "    </tr>    <tr> \n",
       "        <th class=\"index_name level0\" >Importance</th> \n",
       "        <th class=\"blank\" ></th> \n",
       "        <th class=\"blank\" ></th> \n",
       "        <th class=\"blank\" ></th> \n",
       "    </tr></thead> \n",
       "<tbody>    <tr> \n",
       "        <th id=\"T_1fe5fb2e_ca85_11e9_8c16_38d5473ab090level0_row0\" class=\"row_heading level0 row0\" >Important</th> \n",
       "        <td id=\"T_1fe5fb2e_ca85_11e9_8c16_38d5473ab090row0_col0\" class=\"data row0 col0\" >0.327335</td> \n",
       "        <td id=\"T_1fe5fb2e_ca85_11e9_8c16_38d5473ab090row0_col1\" class=\"data row0 col1\" >0.223872</td> \n",
       "        <td id=\"T_1fe5fb2e_ca85_11e9_8c16_38d5473ab090row0_col2\" class=\"data row0 col2\" >0.103463</td> \n",
       "    </tr>    <tr> \n",
       "        <th id=\"T_1fe5fb2e_ca85_11e9_8c16_38d5473ab090level0_row1\" class=\"row_heading level0 row1\" >Somewhat important</th> \n",
       "        <td id=\"T_1fe5fb2e_ca85_11e9_8c16_38d5473ab090row1_col0\" class=\"data row1 col0\" >0.275642</td> \n",
       "        <td id=\"T_1fe5fb2e_ca85_11e9_8c16_38d5473ab090row1_col1\" class=\"data row1 col1\" >0.267022</td> \n",
       "        <td id=\"T_1fe5fb2e_ca85_11e9_8c16_38d5473ab090row1_col2\" class=\"data row1 col2\" >0.00861969</td> \n",
       "    </tr>    <tr> \n",
       "        <th id=\"T_1fe5fb2e_ca85_11e9_8c16_38d5473ab090level0_row2\" class=\"row_heading level0 row2\" >Very important</th> \n",
       "        <td id=\"T_1fe5fb2e_ca85_11e9_8c16_38d5473ab090row2_col0\" class=\"data row2 col0\" >0.214297</td> \n",
       "        <td id=\"T_1fe5fb2e_ca85_11e9_8c16_38d5473ab090row2_col1\" class=\"data row2 col1\" >0.139543</td> \n",
       "        <td id=\"T_1fe5fb2e_ca85_11e9_8c16_38d5473ab090row2_col2\" class=\"data row2 col2\" >0.0747544</td> \n",
       "    </tr>    <tr> \n",
       "        <th id=\"T_1fe5fb2e_ca85_11e9_8c16_38d5473ab090level0_row3\" class=\"row_heading level0 row3\" >Not very important</th> \n",
       "        <td id=\"T_1fe5fb2e_ca85_11e9_8c16_38d5473ab090row3_col0\" class=\"data row3 col0\" >0.139702</td> \n",
       "        <td id=\"T_1fe5fb2e_ca85_11e9_8c16_38d5473ab090row3_col1\" class=\"data row3 col1\" >0.22857</td> \n",
       "        <td id=\"T_1fe5fb2e_ca85_11e9_8c16_38d5473ab090row3_col2\" class=\"data row3 col2\" >-0.0888675</td> \n",
       "    </tr>    <tr> \n",
       "        <th id=\"T_1fe5fb2e_ca85_11e9_8c16_38d5473ab090level0_row4\" class=\"row_heading level0 row4\" >Not at all important</th> \n",
       "        <td id=\"T_1fe5fb2e_ca85_11e9_8c16_38d5473ab090row4_col0\" class=\"data row4 col0\" >0.0430231</td> \n",
       "        <td id=\"T_1fe5fb2e_ca85_11e9_8c16_38d5473ab090row4_col1\" class=\"data row4 col1\" >0.140993</td> \n",
       "        <td id=\"T_1fe5fb2e_ca85_11e9_8c16_38d5473ab090row4_col2\" class=\"data row4 col2\" >-0.0979699</td> \n",
       "    </tr></tbody> \n",
       "</table> "
      ],
      "text/plain": [
       "<pandas.io.formats.style.Styler at 0x277849a1278>"
      ]
     },
     "execution_count": 22,
     "metadata": {},
     "output_type": "execute_result"
    }
   ],
   "source": [
    "ed_1_perc = clean_and_plot(ed_1, 'Higher Formal Education', plot=False)\n",
    "ed_0_perc = clean_and_plot(ed_0, 'Max of Bachelors Higher Ed', plot=False)\n",
    "\n",
    "comp_df = pd.merge(ed_1_perc, ed_0_perc, left_index=True, right_index=True)\n",
    "comp_df.columns = ['ed_1_perc', 'ed_0_perc']\n",
    "comp_df['Diff_HigherEd_Vals'] = comp_df['ed_1_perc'] - comp_df['ed_0_perc']\n",
    "comp_df.style.bar(subset=['Diff_HigherEd_Vals'], align='mid', color=['#d65f5f', '#5fba7d'])"
   ]
  },
  {
   "cell_type": "markdown",
   "metadata": {},
   "source": [
    "### Question2: What Globex's should prioritize when recruiting software developers? What are the important things that should be taken into consideration during hiring?"
   ]
  },
  {
   "cell_type": "code",
   "execution_count": 23,
   "metadata": {},
   "outputs": [
    {
     "data": {
      "text/plain": [
       "\"Congratulations! You've just been put in charge of technical recruiting at Globex, a multinational high- tech firm. This job comes with a corner office, and you have an experienced staff of recruiters at your disposal. They want to know what they should prioritize when recruiting software developers. How important should each of the following be in Globex's hiring process? Knowledge of algorithms and data structures\""
      ]
     },
     "execution_count": 23,
     "metadata": {},
     "output_type": "execute_result"
    }
   ],
   "source": [
    "#Get the disciption of one column related to this question\n",
    "h.get_description('ImportantHiringAlgorithms',schema)"
   ]
  },
  {
   "cell_type": "markdown",
   "metadata": {},
   "source": [
    "Congratulations! You've just been put in charge of technical recruiting at Globex, a multinational high- tech firm. This job comes with a corner office, and you have an experienced staff of recruiters at your disposal. They want to know what they should prioritize when recruiting software developers. How important should each of the following be in Globex's hiring process?"
   ]
  },
  {
   "cell_type": "markdown",
   "metadata": {},
   "source": [
    "* ImportantHiringAlgorithms - Knowledge of algorithms and data structures\n",
    "* ImportantHiringTechExp\t- Experience with specific tools (libraries, frameworks, etc.) used by the employer\n",
    "* ImportantHiringCommunication - Communication skills\n",
    "* ImportantHiringOpenSource- Contributions to open source projects\n",
    "* ImportantHiringPMExp - Experience with specific project management tools & techniques\n",
    "* ImportantHiringCompanies - Previous companies worked at\n",
    "* ImportantHiringTitles - Previous job titles held\n",
    "* ImportantHiringEducation - Educational credentials (e.g. schools attended, specific field of study, grades earned)\n",
    "* ImportantHiringRep - Stack Overflow reputation\n",
    "* ImportantHiringGettingThingsDone - Track record of getting things done"
   ]
  },
  {
   "cell_type": "markdown",
   "metadata": {},
   "source": [
    "#### 1. we will save the name of related columns in cols variable excpept the first one."
   ]
  },
  {
   "cell_type": "code",
   "execution_count": 24,
   "metadata": {},
   "outputs": [],
   "source": [
    "#cols = ['ImportantHiringAlgorithms', 'ImportantHiringTechExp', 'ImportantHiringCommunication', 'ImportantHiringOpenSource', 'ImportantHiringPMExp', 'ImportantHiringCompanies', 'ImportantHiringTitles' , 'ImportantHiringEducation', 'ImportantHiringRep', 'ImportantHiringGettingThingsDone']\n",
    "#save the coloumns required in cols variable\n",
    "cols = ['ImportantHiringTechExp', 'ImportantHiringCommunication', 'ImportantHiringOpenSource', 'ImportantHiringPMExp', 'ImportantHiringCompanies', 'ImportantHiringTitles' , 'ImportantHiringEducation', 'ImportantHiringRep', 'ImportantHiringGettingThingsDone']"
   ]
  },
  {
   "cell_type": "code",
   "execution_count": 25,
   "metadata": {},
   "outputs": [],
   "source": [
    "#text = 'ImportantHiringCommunication'\n",
    "#text[15:]"
   ]
  },
  {
   "cell_type": "markdown",
   "metadata": {},
   "source": [
    "#### 2. We will take the ratio of importance for all columns."
   ]
  },
  {
   "cell_type": "code",
   "execution_count": 26,
   "metadata": {},
   "outputs": [],
   "source": [
    "# save the first column in the dataframe and then merge it with other columns\n",
    "#df_hiring = df['ImportantHiringAlgorithms'].value_counts().reset_index()\n",
    "df_hiring = df['ImportantHiringAlgorithms'].value_counts()/(df.shape[0]-sum(df['ImportantHiringAlgorithms'].isnull()))\n",
    "df_hiring = df_hiring.reset_index()\n",
    "df_hiring.rename(columns={'ImportantHiringAlgorithms': 'Algorithms'}, inplace=True)\n",
    "for col in cols:\n",
    "    #print(col)\n",
    "    new_name = col[15:]\n",
    "    #df_temp = df[col].value_counts().reset_index()\n",
    "    df_temp = df[col].value_counts()/(df.shape[0]-sum(df[col].isnull()))\n",
    "    df_temp = df_temp.reset_index()\n",
    "    df_temp.rename(columns={col:new_name}, inplace=True)\n",
    "    #print(df_temp)\n",
    "    df_hiring=df_hiring.merge(df_temp, on=\"index\")"
   ]
  },
  {
   "cell_type": "code",
   "execution_count": 27,
   "metadata": {},
   "outputs": [],
   "source": [
    "df_hiring.rename(columns={'index': 'Importance'}, inplace=True)\n",
    "\n",
    "df_hiring.set_index('Importance', inplace=True)"
   ]
  },
  {
   "cell_type": "code",
   "execution_count": 28,
   "metadata": {},
   "outputs": [
    {
     "data": {
      "text/html": [
       "<div>\n",
       "<style scoped>\n",
       "    .dataframe tbody tr th:only-of-type {\n",
       "        vertical-align: middle;\n",
       "    }\n",
       "\n",
       "    .dataframe tbody tr th {\n",
       "        vertical-align: top;\n",
       "    }\n",
       "\n",
       "    .dataframe thead th {\n",
       "        text-align: right;\n",
       "    }\n",
       "</style>\n",
       "<table border=\"1\" class=\"dataframe\">\n",
       "  <thead>\n",
       "    <tr style=\"text-align: right;\">\n",
       "      <th></th>\n",
       "      <th>Algorithms</th>\n",
       "      <th>TechExp</th>\n",
       "      <th>Communication</th>\n",
       "      <th>OpenSource</th>\n",
       "      <th>PMExp</th>\n",
       "      <th>Companies</th>\n",
       "      <th>Titles</th>\n",
       "      <th>Education</th>\n",
       "      <th>Rep</th>\n",
       "      <th>GettingThingsDone</th>\n",
       "    </tr>\n",
       "    <tr>\n",
       "      <th>Importance</th>\n",
       "      <th></th>\n",
       "      <th></th>\n",
       "      <th></th>\n",
       "      <th></th>\n",
       "      <th></th>\n",
       "      <th></th>\n",
       "      <th></th>\n",
       "      <th></th>\n",
       "      <th></th>\n",
       "      <th></th>\n",
       "    </tr>\n",
       "  </thead>\n",
       "  <tbody>\n",
       "    <tr>\n",
       "      <th>Important</th>\n",
       "      <td>0.413798</td>\n",
       "      <td>0.375758</td>\n",
       "      <td>0.458675</td>\n",
       "      <td>0.189502</td>\n",
       "      <td>0.226683</td>\n",
       "      <td>0.195811</td>\n",
       "      <td>0.187161</td>\n",
       "      <td>0.189199</td>\n",
       "      <td>0.089908</td>\n",
       "      <td>0.446768</td>\n",
       "    </tr>\n",
       "    <tr>\n",
       "      <th>Somewhat important</th>\n",
       "      <td>0.275470</td>\n",
       "      <td>0.324388</td>\n",
       "      <td>0.165858</td>\n",
       "      <td>0.363967</td>\n",
       "      <td>0.345913</td>\n",
       "      <td>0.410570</td>\n",
       "      <td>0.375932</td>\n",
       "      <td>0.384956</td>\n",
       "      <td>0.265323</td>\n",
       "      <td>0.164582</td>\n",
       "    </tr>\n",
       "    <tr>\n",
       "      <th>Very important</th>\n",
       "      <td>0.225648</td>\n",
       "      <td>0.158605</td>\n",
       "      <td>0.341318</td>\n",
       "      <td>0.052909</td>\n",
       "      <td>0.060768</td>\n",
       "      <td>0.032396</td>\n",
       "      <td>0.029909</td>\n",
       "      <td>0.035446</td>\n",
       "      <td>0.022643</td>\n",
       "      <td>0.347592</td>\n",
       "    </tr>\n",
       "    <tr>\n",
       "      <th>Not very important</th>\n",
       "      <td>0.073075</td>\n",
       "      <td>0.123440</td>\n",
       "      <td>0.028981</td>\n",
       "      <td>0.304098</td>\n",
       "      <td>0.282350</td>\n",
       "      <td>0.291493</td>\n",
       "      <td>0.298147</td>\n",
       "      <td>0.288944</td>\n",
       "      <td>0.377455</td>\n",
       "      <td>0.032825</td>\n",
       "    </tr>\n",
       "    <tr>\n",
       "      <th>Not at all important</th>\n",
       "      <td>0.012010</td>\n",
       "      <td>0.017809</td>\n",
       "      <td>0.005168</td>\n",
       "      <td>0.089523</td>\n",
       "      <td>0.084286</td>\n",
       "      <td>0.069730</td>\n",
       "      <td>0.108850</td>\n",
       "      <td>0.101455</td>\n",
       "      <td>0.244671</td>\n",
       "      <td>0.008233</td>\n",
       "    </tr>\n",
       "  </tbody>\n",
       "</table>\n",
       "</div>"
      ],
      "text/plain": [
       "                      Algorithms   TechExp  Communication  OpenSource  \\\n",
       "Importance                                                              \n",
       "Important               0.413798  0.375758       0.458675    0.189502   \n",
       "Somewhat important      0.275470  0.324388       0.165858    0.363967   \n",
       "Very important          0.225648  0.158605       0.341318    0.052909   \n",
       "Not very important      0.073075  0.123440       0.028981    0.304098   \n",
       "Not at all important    0.012010  0.017809       0.005168    0.089523   \n",
       "\n",
       "                         PMExp  Companies    Titles  Education       Rep  \\\n",
       "Importance                                                                 \n",
       "Important             0.226683   0.195811  0.187161   0.189199  0.089908   \n",
       "Somewhat important    0.345913   0.410570  0.375932   0.384956  0.265323   \n",
       "Very important        0.060768   0.032396  0.029909   0.035446  0.022643   \n",
       "Not very important    0.282350   0.291493  0.298147   0.288944  0.377455   \n",
       "Not at all important  0.084286   0.069730  0.108850   0.101455  0.244671   \n",
       "\n",
       "                      GettingThingsDone  \n",
       "Importance                               \n",
       "Important                      0.446768  \n",
       "Somewhat important             0.164582  \n",
       "Very important                 0.347592  \n",
       "Not very important             0.032825  \n",
       "Not at all important           0.008233  "
      ]
     },
     "execution_count": 28,
     "metadata": {},
     "output_type": "execute_result"
    }
   ],
   "source": [
    "df_hiring"
   ]
  },
  {
   "cell_type": "code",
   "execution_count": 29,
   "metadata": {},
   "outputs": [],
   "source": [
    "#Test\n",
    "# df['ImportantHiringTechExp'].value_counts()/df.shape[0]\n",
    "# sum(df['ImportantHiringTechExp'].isnull())\n",
    "# sum(~df['ImportantHiringTechExp'].isnull())\n",
    "# test = df['ImportantHiringTechExp'].value_counts()/(df.shape[0]-sum(df['ImportantHiringTechExp'].isnull()))\n",
    "# test\n",
    "# test.reset_index()"
   ]
  },
  {
   "cell_type": "code",
   "execution_count": 30,
   "metadata": {},
   "outputs": [],
   "source": [
    "# test1 = df['ImportantHiringRep'].value_counts().reset_index()\n",
    "# test2 = df['ImportantHiringGettingThingsDone'].value_counts().reset_index()\n",
    "# test3 = test1.merge(test2, on=\"index\")\n",
    "# test3.set_index('index', inplace=True)\n",
    "# test3.plot(kind=\"bar\")"
   ]
  },
  {
   "cell_type": "code",
   "execution_count": 31,
   "metadata": {},
   "outputs": [],
   "source": [
    "#df_hiring.max()"
   ]
  },
  {
   "cell_type": "markdown",
   "metadata": {},
   "source": [
    "#### 3. Draw the datafram and see the result"
   ]
  },
  {
   "cell_type": "code",
   "execution_count": 32,
   "metadata": {},
   "outputs": [
    {
     "data": {
      "text/plain": [
       "<matplotlib.axes._subplots.AxesSubplot at 0x2778774e668>"
      ]
     },
     "execution_count": 32,
     "metadata": {},
     "output_type": "execute_result"
    },
    {
     "data": {
      "image/png": "[encoded data removed]",
      "text/plain": [
       "<Figure size 1296x504 with 1 Axes>"
      ]
     },
     "metadata": {
      "needs_background": "light"
     },
     "output_type": "display_data"
    }
   ],
   "source": [
    "df_hiring.plot(figsize=(18,7),kind=\"bar\")"
   ]
  },
  {
   "cell_type": "markdown",
   "metadata": {},
   "source": [
    "### Question3: What is the percentage of career satisfaction of those who said that education is important in their career success compared to those who mentioned not important? Which group has the highest average career satisfaction ?"
   ]
  },
  {
   "cell_type": "code",
   "execution_count": 33,
   "metadata": {},
   "outputs": [
    {
     "data": {
      "text/plain": [
       "'Overall, how important has your formal schooling and education been to your career success?'"
      ]
     },
     "execution_count": 33,
     "metadata": {},
     "output_type": "execute_result"
    }
   ],
   "source": [
    "h.get_description('EducationImportant',schema)"
   ]
  },
  {
   "cell_type": "code",
   "execution_count": 34,
   "metadata": {},
   "outputs": [
    {
     "data": {
      "text/plain": [
       "'Career satisfaction rating'"
      ]
     },
     "execution_count": 34,
     "metadata": {},
     "output_type": "execute_result"
    }
   ],
   "source": [
    "h.get_description('CareerSatisfaction',schema)"
   ]
  },
  {
   "cell_type": "code",
   "execution_count": 35,
   "metadata": {},
   "outputs": [
    {
     "data": {
      "text/plain": [
       "8.0     11037\n",
       "7.0      9384\n",
       "9.0      5579\n",
       "10.0     5408\n",
       "6.0      4721\n",
       "5.0      3070\n",
       "4.0      1352\n",
       "3.0      1046\n",
       "2.0       495\n",
       "0.0       392\n",
       "1.0       211\n",
       "Name: CareerSatisfaction, dtype: int64"
      ]
     },
     "execution_count": 35,
     "metadata": {},
     "output_type": "execute_result"
    }
   ],
   "source": [
    "df.CareerSatisfaction.value_counts()"
   ]
  },
  {
   "cell_type": "code",
   "execution_count": 36,
   "metadata": {},
   "outputs": [],
   "source": [
    "Edu_career = df.groupby('EducationImportant').mean()['CareerSatisfaction'].sort_values().reset_index().set_index('EducationImportant')"
   ]
  },
  {
   "cell_type": "code",
   "execution_count": 37,
   "metadata": {},
   "outputs": [
    {
     "data": {
      "text/plain": [
       "<matplotlib.axes._subplots.AxesSubplot at 0x27787810cc0>"
      ]
     },
     "execution_count": 37,
     "metadata": {},
     "output_type": "execute_result"
    },
    {
     "data": {
      "image/png": "[encoded data removed]",
      "text/plain": [
       "<Figure size 1296x360 with 1 Axes>"
      ]
     },
     "metadata": {
      "needs_background": "light"
     },
     "output_type": "display_data"
    }
   ],
   "source": [
    "Edu_career.plot(figsize=(18,5),kind=\"bar\")"
   ]
  },
  {
   "cell_type": "code",
   "execution_count": 38,
   "metadata": {},
   "outputs": [],
   "source": [
    "def career_satisfaction(career_satisfation_int):\n",
    "    '''\n",
    "    INPUT\n",
    "        career_satisfation_int - an integer values of career_satisfaction column\n",
    "    \n",
    "    OUTPUT\n",
    "        return 1 if the rating is larger than 5\n",
    "        return 0 otherwise\n",
    "    \n",
    "    '''\n",
    "    if career_satisfation_int > 5:\n",
    "        return 1\n",
    "    else:\n",
    "        return 0"
   ]
  },
  {
   "cell_type": "code",
   "execution_count": 39,
   "metadata": {},
   "outputs": [],
   "source": [
    "df['HighRateSatisfaction'] = df[\"CareerSatisfaction\"].apply(career_satisfaction)"
   ]
  },
  {
   "cell_type": "code",
   "execution_count": 40,
   "metadata": {},
   "outputs": [],
   "source": [
    "career_sat_1 = df[df['HighRateSatisfaction'] == 1] # Subset df to only those with career satisfaction more than 5\n",
    "career_sat_0 = df[df['HighRateSatisfaction'] == 0] # Subset df to only those with career satisfaction less than 5"
   ]
  },
  {
   "cell_type": "code",
   "execution_count": 41,
   "metadata": {},
   "outputs": [
    {
     "data": {
      "text/html": [
       "<style  type=\"text/css\" >\n",
       "    #T_21c39610_ca85_11e9_82d7_38d5473ab090row0_col2 {\n",
       "            width:  10em;\n",
       "             height:  80%;\n",
       "            background:  linear-gradient(90deg, transparent 0%, transparent 64.7%, #5fba7d 64.7%, #5fba7d 69.6%, transparent 69.6%);\n",
       "        }    #T_21c39610_ca85_11e9_82d7_38d5473ab090row1_col2 {\n",
       "            width:  10em;\n",
       "             height:  80%;\n",
       "            background:  linear-gradient(90deg, transparent 0%, transparent 64.7%, #5fba7d 64.7%, #5fba7d 90.5%, transparent 90.5%);\n",
       "        }    #T_21c39610_ca85_11e9_82d7_38d5473ab090row2_col2 {\n",
       "            width:  10em;\n",
       "             height:  80%;\n",
       "            background:  linear-gradient(90deg, transparent 0%, transparent 63.1%, #d65f5f 63.1%, #d65f5f 64.7%, transparent 64.7%);\n",
       "        }    #T_21c39610_ca85_11e9_82d7_38d5473ab090row3_col2 {\n",
       "            width:  10em;\n",
       "             height:  80%;\n",
       "            background:  linear-gradient(90deg, transparent 0%, transparent 64.7%, #5fba7d 64.7%, #5fba7d 100.0%, transparent 100.0%);\n",
       "        }    #T_21c39610_ca85_11e9_82d7_38d5473ab090row4_col2 {\n",
       "            width:  10em;\n",
       "             height:  80%;\n",
       "            background:  linear-gradient(90deg, transparent 0%, transparent 0.0%, #d65f5f 0.0%, #d65f5f 64.7%, transparent 64.7%);\n",
       "        }</style>  \n",
       "<table id=\"T_21c39610_ca85_11e9_82d7_38d5473ab090\" > \n",
       "<thead>    <tr> \n",
       "        <th class=\"blank level0\" ></th> \n",
       "        <th class=\"col_heading level0 col0\" >career_sat_1_perc</th> \n",
       "        <th class=\"col_heading level0 col1\" >career_sat_0_perc</th> \n",
       "        <th class=\"col_heading level0 col2\" >Diff_HighRateSatisfaction_Vals</th> \n",
       "    </tr>    <tr> \n",
       "        <th class=\"index_name level0\" >Importance</th> \n",
       "        <th class=\"blank\" ></th> \n",
       "        <th class=\"blank\" ></th> \n",
       "        <th class=\"blank\" ></th> \n",
       "    </tr></thead> \n",
       "<tbody>    <tr> \n",
       "        <th id=\"T_21c39610_ca85_11e9_82d7_38d5473ab090level0_row0\" class=\"row_heading level0 row0\" >Somewhat important</th> \n",
       "        <td id=\"T_21c39610_ca85_11e9_82d7_38d5473ab090row0_col0\" class=\"data row0 col0\" >0.269629</td> \n",
       "        <td id=\"T_21c39610_ca85_11e9_82d7_38d5473ab090row0_col1\" class=\"data row0 col1\" >0.266951</td> \n",
       "        <td id=\"T_21c39610_ca85_11e9_82d7_38d5473ab090row0_col2\" class=\"data row0 col2\" >0.00267807</td> \n",
       "    </tr>    <tr> \n",
       "        <th id=\"T_21c39610_ca85_11e9_82d7_38d5473ab090level0_row1\" class=\"row_heading level0 row1\" >Important</th> \n",
       "        <td id=\"T_21c39610_ca85_11e9_82d7_38d5473ab090row1_col0\" class=\"data row1 col0\" >0.252783</td> \n",
       "        <td id=\"T_21c39610_ca85_11e9_82d7_38d5473ab090row1_col1\" class=\"data row1 col1\" >0.238782</td> \n",
       "        <td id=\"T_21c39610_ca85_11e9_82d7_38d5473ab090row1_col2\" class=\"data row1 col2\" >0.0140015</td> \n",
       "    </tr>    <tr> \n",
       "        <th id=\"T_21c39610_ca85_11e9_82d7_38d5473ab090level0_row2\" class=\"row_heading level0 row2\" >Not very important</th> \n",
       "        <td id=\"T_21c39610_ca85_11e9_82d7_38d5473ab090row2_col0\" class=\"data row2 col0\" >0.205201</td> \n",
       "        <td id=\"T_21c39610_ca85_11e9_82d7_38d5473ab090row2_col1\" class=\"data row2 col1\" >0.206027</td> \n",
       "        <td id=\"T_21c39610_ca85_11e9_82d7_38d5473ab090row2_col2\" class=\"data row2 col2\" >-0.000825401</td> \n",
       "    </tr>    <tr> \n",
       "        <th id=\"T_21c39610_ca85_11e9_82d7_38d5473ab090level0_row3\" class=\"row_heading level0 row3\" >Very important</th> \n",
       "        <td id=\"T_21c39610_ca85_11e9_82d7_38d5473ab090row3_col0\" class=\"data row3 col0\" >0.16161</td> \n",
       "        <td id=\"T_21c39610_ca85_11e9_82d7_38d5473ab090row3_col1\" class=\"data row3 col1\" >0.142483</td> \n",
       "        <td id=\"T_21c39610_ca85_11e9_82d7_38d5473ab090row3_col2\" class=\"data row3 col2\" >0.0191269</td> \n",
       "    </tr>    <tr> \n",
       "        <th id=\"T_21c39610_ca85_11e9_82d7_38d5473ab090level0_row4\" class=\"row_heading level0 row4\" >Not at all important</th> \n",
       "        <td id=\"T_21c39610_ca85_11e9_82d7_38d5473ab090row4_col0\" class=\"data row4 col0\" >0.110777</td> \n",
       "        <td id=\"T_21c39610_ca85_11e9_82d7_38d5473ab090row4_col1\" class=\"data row4 col1\" >0.145758</td> \n",
       "        <td id=\"T_21c39610_ca85_11e9_82d7_38d5473ab090row4_col2\" class=\"data row4 col2\" >-0.034981</td> \n",
       "    </tr></tbody> \n",
       "</table> "
      ],
      "text/plain": [
       "<pandas.io.formats.style.Styler at 0x2778787c240>"
      ]
     },
     "execution_count": 41,
     "metadata": {},
     "output_type": "execute_result"
    }
   ],
   "source": [
    "career_sat_1_perc = clean_and_plot(career_sat_1, 'Higher Rate', plot=False)\n",
    "career_sat_0_perc = clean_and_plot(career_sat_0, 'Lower Rate', plot=False)\n",
    "\n",
    "comp_df = pd.merge(career_sat_1_perc, career_sat_0_perc, left_index=True, right_index=True)\n",
    "comp_df.columns = ['career_sat_1_perc', 'career_sat_0_perc']\n",
    "comp_df['Diff_HighRateSatisfaction_Vals'] = comp_df['career_sat_1_perc'] - comp_df['career_sat_0_perc']\n",
    "comp_df.style.bar(subset=['Diff_HighRateSatisfaction_Vals'], align='mid', color=['#d65f5f', '#5fba7d'])"
   ]
  },
  {
   "cell_type": "markdown",
   "metadata": {},
   "source": [
    "### Question 4: Through the answers of the developers, what is the most used method in their educational process other than formal education?"
   ]
  },
  {
   "cell_type": "code",
   "execution_count": 42,
   "metadata": {},
   "outputs": [
    {
     "data": {
      "text/plain": [
       "'Outside of your formal schooling and education, which of the following have you done?'"
      ]
     },
     "execution_count": 42,
     "metadata": {},
     "output_type": "execute_result"
    }
   ],
   "source": [
    "h.get_description('EducationTypes',schema)"
   ]
  },
  {
   "cell_type": "code",
   "execution_count": 43,
   "metadata": {},
   "outputs": [
    {
     "data": {
      "text/plain": [
       "Somewhat important      6289\n",
       "Important               5861\n",
       "Not very important      4795\n",
       "Very important          3716\n",
       "Not at all important    2694\n",
       "Name: EducationImportant, dtype: int64"
      ]
     },
     "execution_count": 43,
     "metadata": {},
     "output_type": "execute_result"
    }
   ],
   "source": [
    "df.EducationImportant.value_counts()"
   ]
  },
  {
   "cell_type": "code",
   "execution_count": 44,
   "metadata": {},
   "outputs": [],
   "source": [
    "possible_vals = ['Self-taught', 'Online course', 'Open source contributions', 'On-the-job training', 'Hackathon', 'Coding competition', 'Part-time/evening course', 'Industry certification', 'Bootcamp']\n",
    "educationType_df = df.EducationTypes.value_counts().reset_index()\n",
    "educationType_df.rename(columns={'index': 'method', 'EducationTypes': 'count'}, inplace=True)\n",
    "educationType_count_df = h.total_count(educationType_df, 'method', 'count', possible_vals)\n",
    "educationType_count_df.set_index('method', inplace=True)"
   ]
  },
  {
   "cell_type": "code",
   "execution_count": 45,
   "metadata": {},
   "outputs": [
    {
     "data": {
      "text/html": [
       "<div>\n",
       "<style scoped>\n",
       "    .dataframe tbody tr th:only-of-type {\n",
       "        vertical-align: middle;\n",
       "    }\n",
       "\n",
       "    .dataframe tbody tr th {\n",
       "        vertical-align: top;\n",
       "    }\n",
       "\n",
       "    .dataframe thead th {\n",
       "        text-align: right;\n",
       "    }\n",
       "</style>\n",
       "<table border=\"1\" class=\"dataframe\">\n",
       "  <thead>\n",
       "    <tr style=\"text-align: right;\">\n",
       "      <th></th>\n",
       "      <th>count</th>\n",
       "    </tr>\n",
       "    <tr>\n",
       "      <th>method</th>\n",
       "      <th></th>\n",
       "    </tr>\n",
       "  </thead>\n",
       "  <tbody>\n",
       "    <tr>\n",
       "      <th>Self-taught</th>\n",
       "      <td>27330</td>\n",
       "    </tr>\n",
       "    <tr>\n",
       "      <th>Online course</th>\n",
       "      <td>13792</td>\n",
       "    </tr>\n",
       "    <tr>\n",
       "      <th>On-the-job training</th>\n",
       "      <td>12508</td>\n",
       "    </tr>\n",
       "    <tr>\n",
       "      <th>Open source contributions</th>\n",
       "      <td>11225</td>\n",
       "    </tr>\n",
       "    <tr>\n",
       "      <th>Hackathon</th>\n",
       "      <td>7150</td>\n",
       "    </tr>\n",
       "    <tr>\n",
       "      <th>Coding competition</th>\n",
       "      <td>6683</td>\n",
       "    </tr>\n",
       "    <tr>\n",
       "      <th>Part-time/evening course</th>\n",
       "      <td>4654</td>\n",
       "    </tr>\n",
       "    <tr>\n",
       "      <th>Industry certification</th>\n",
       "      <td>4472</td>\n",
       "    </tr>\n",
       "    <tr>\n",
       "      <th>Bootcamp</th>\n",
       "      <td>2727</td>\n",
       "    </tr>\n",
       "  </tbody>\n",
       "</table>\n",
       "</div>"
      ],
      "text/plain": [
       "                           count\n",
       "method                          \n",
       "Self-taught                27330\n",
       "Online course              13792\n",
       "On-the-job training        12508\n",
       "Open source contributions  11225\n",
       "Hackathon                   7150\n",
       "Coding competition          6683\n",
       "Part-time/evening course    4654\n",
       "Industry certification      4472\n",
       "Bootcamp                    2727"
      ]
     },
     "execution_count": 45,
     "metadata": {},
     "output_type": "execute_result"
    }
   ],
   "source": [
    "educationType_count_df"
   ]
  },
  {
   "cell_type": "code",
   "execution_count": 46,
   "metadata": {},
   "outputs": [
    {
     "data": {
      "image/png": "[encoded data removed]",
      "text/plain": [
       "<Figure size 432x288 with 1 Axes>"
      ]
     },
     "metadata": {
      "needs_background": "light"
     },
     "output_type": "display_data"
    }
   ],
   "source": [
    "(educationType_count_df/educationType_count_df.sum()).plot(kind='bar', legend=None);\n",
    "plt.title('Method of Education Followed');\n",
    "plt.show()"
   ]
  },
  {
   "cell_type": "code",
   "execution_count": null,
   "metadata": {},
   "outputs": [],
   "source": []
  }
 ],
 "metadata": {
  "kernelspec": {
   "display_name": "Python 3",
   "language": "python",
   "name": "python3"
  },
  "language_info": {
   "codemirror_mode": {
    "name": "ipython",
    "version": 3
   },
   "file_extension": ".py",
   "mimetype": "text/x-python",
   "name": "python",
   "nbconvert_exporter": "python",
   "pygments_lexer": "ipython3",
   "version": "3.7.1"
  }
 },
 "nbformat": 4,
 "nbformat_minor": 2
}
